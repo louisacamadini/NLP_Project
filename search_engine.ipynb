{
 "cells": [
  {
   "cell_type": "markdown",
   "metadata": {},
   "source": [
    "# NLP Project ENSAE 2023"
   ]
  },
  {
   "cell_type": "markdown",
   "metadata": {},
   "source": [
    "# <span style=\"color:orange\"> Text Similarity Techniques for Services Categorization and Search </span>"
   ]
  },
  {
   "cell_type": "code",
   "execution_count": 4,
   "metadata": {},
   "outputs": [],
   "source": [
    "import numpy as np\n",
    "import pandas as pd\n",
    "df = pd.read_csv('df').drop('Unnamed: 0', axis=1)"
   ]
  },
  {
   "cell_type": "code",
   "execution_count": 5,
   "metadata": {},
   "outputs": [
    {
     "data": {
      "text/html": [
       "<div>\n",
       "<style scoped>\n",
       "    .dataframe tbody tr th:only-of-type {\n",
       "        vertical-align: middle;\n",
       "    }\n",
       "\n",
       "    .dataframe tbody tr th {\n",
       "        vertical-align: top;\n",
       "    }\n",
       "\n",
       "    .dataframe thead th {\n",
       "        text-align: right;\n",
       "    }\n",
       "</style>\n",
       "<table border=\"1\" class=\"dataframe\">\n",
       "  <thead>\n",
       "    <tr style=\"text-align: right;\">\n",
       "      <th></th>\n",
       "      <th>Nom et prénom</th>\n",
       "      <th>Numéro de téléphone</th>\n",
       "      <th>Service proposé</th>\n",
       "      <th>lowerplot</th>\n",
       "    </tr>\n",
       "  </thead>\n",
       "  <tbody>\n",
       "    <tr>\n",
       "      <th>0</th>\n",
       "      <td>Capucine Remy</td>\n",
       "      <td>0643621859</td>\n",
       "      <td>Gestion de projet de construction</td>\n",
       "      <td>gestion projet construction</td>\n",
       "    </tr>\n",
       "    <tr>\n",
       "      <th>1</th>\n",
       "      <td>Théophile Dias-Coste</td>\n",
       "      <td>0610883745</td>\n",
       "      <td>Développement d'applications mobiles</td>\n",
       "      <td>développement dapplications_mobile</td>\n",
       "    </tr>\n",
       "    <tr>\n",
       "      <th>2</th>\n",
       "      <td>Valentine Denis-Briand</td>\n",
       "      <td>0643864969</td>\n",
       "      <td>Rédaction de contenu marketing</td>\n",
       "      <td>rédaction contenu marketing</td>\n",
       "    </tr>\n",
       "    <tr>\n",
       "      <th>3</th>\n",
       "      <td>Marc de Charrier</td>\n",
       "      <td>0682454911</td>\n",
       "      <td>Traduction de documents juridiques</td>\n",
       "      <td>traduction_document juridiques</td>\n",
       "    </tr>\n",
       "    <tr>\n",
       "      <th>4</th>\n",
       "      <td>Daniel Maillard-Ramos</td>\n",
       "      <td>0636373700</td>\n",
       "      <td>Analyse de données pour les entreprises</td>\n",
       "      <td>analyse données entreprises</td>\n",
       "    </tr>\n",
       "  </tbody>\n",
       "</table>\n",
       "</div>"
      ],
      "text/plain": [
       "            Nom et prénom Numéro de téléphone  \\\n",
       "0           Capucine Remy          0643621859   \n",
       "1    Théophile Dias-Coste          0610883745   \n",
       "2  Valentine Denis-Briand          0643864969   \n",
       "3        Marc de Charrier          0682454911   \n",
       "4   Daniel Maillard-Ramos          0636373700   \n",
       "\n",
       "                           Service proposé                           lowerplot  \n",
       "0        Gestion de projet de construction         gestion projet construction  \n",
       "1     Développement d'applications mobiles  développement dapplications_mobile  \n",
       "2           Rédaction de contenu marketing         rédaction contenu marketing  \n",
       "3       Traduction de documents juridiques      traduction_document juridiques  \n",
       "4  Analyse de données pour les entreprises         analyse données entreprises  "
      ]
     },
     "execution_count": 5,
     "metadata": {},
     "output_type": "execute_result"
    }
   ],
   "source": [
    "df.head()"
   ]
  },
  {
   "cell_type": "markdown",
   "metadata": {},
   "source": [
    "## <span style=\"color:orange\"> TF-IDF *(textual vectorization method)* based Search Engine </span>"
   ]
  },
  {
   "cell_type": "code",
   "execution_count": 6,
   "metadata": {},
   "outputs": [],
   "source": [
    "from sklearn.feature_extraction.text import TfidfVectorizer\n",
    "from sklearn.metrics.pairwise import cosine_similarity\n",
    "from nltk.translate.bleu_score import sentence_bleu\n",
    "from termcolor import colored\n",
    "from tabulate import tabulate"
   ]
  },
  {
   "cell_type": "code",
   "execution_count": 12,
   "metadata": {},
   "outputs": [],
   "source": [
    "import nltk\n",
    "from nltk.tokenize import TreebankWordTokenizer, TweetTokenizer\n",
    "from gensim.models.phrases import Phrases, Phraser\n",
    "#nltk.download('punkt')\n",
    "#sent_detector = nltk.data.load('tokenizers/punkt/english.pickle')"
   ]
  },
  {
   "cell_type": "markdown",
   "metadata": {},
   "source": [
    "**TfidfVectorizer** is a scikit-learn class that allows to transform a text corpus into a TF-IDF vector matrix. "
   ]
  },
  {
   "cell_type": "code",
   "execution_count": 9,
   "metadata": {},
   "outputs": [],
   "source": [
    "vectorizer = TfidfVectorizer()\n",
    "X = vectorizer.fit_transform(df['lowerplot'])"
   ]
  },
  {
   "cell_type": "markdown",
   "metadata": {},
   "source": [
    "### 1. Cosine Similarity"
   ]
  },
  {
   "cell_type": "code",
   "execution_count": 91,
   "metadata": {},
   "outputs": [],
   "source": [
    "def search_engine():\n",
    "    print(colored(\"Bonjour et bienvenue sur notre moteur de recherche local de Bastia !\\n \\nEntrez des mots-clés pour être mis en relation avec les personnes susceptibles de vous \\nrendre service près de chez vous.\",\"magenta\"))\n",
    "    query = input(colored('\\nMot clé : ','blue'))\n",
    "    while query.lower() != \"non\" :\n",
    "        query_tokens = query.split() # convertir l'input en une liste de mots\n",
    "        \n",
    "        query_vector = vectorizer.transform([query])\n",
    "        results      = cosine_similarity(X, query_vector)\n",
    "        \n",
    "        relevant_candidates = np.where(results.flatten() > 0.2)[0] # trouver seuil pertinent\n",
    "        sorted_candidates = np.argsort(results.flatten()[relevant_candidates])[::-1]\n",
    "        all_candidates = relevant_candidates[sorted_candidates]\n",
    "\n",
    "        print('\\033[45m\\033[37m\\nRésultats de la recherche pour \"{}\": \\033[0m\\n'.format(query))\n",
    "        headers = ['Nom', 'Contact', 'Service']#, 'Score BLEU']\n",
    "        rows = []\n",
    "        for i in all_candidates:\n",
    "            name    = df.iloc[i, 0]\n",
    "            number  = df.iloc[i, 1]\n",
    "            service = df.iloc[i, 2]\n",
    "            serv    = df.iloc[i, 3]\n",
    "            \n",
    "            candidate = serv\n",
    "            reference = [query]\n",
    "            score = round(nltk.translate.bleu_score.sentence_bleu(reference, candidate)*100,2) # calculer le score BLEU\n",
    "            rows.append([name, number, service])#, score])\n",
    "\n",
    "        print(tabulate(rows, headers=headers, tablefmt='orgtbl'))\n",
    "\n",
    "        query = input(colored('\\nAvez-vous besoin d\\'autre chose ?\\n','blue'))\n",
    "    print('\\033[45m\\033[37m\\nÀ bientôt et merci d\\'avoir utilisé le moteur de recherche local ! \\033[0m')\n",
    "    return()"
   ]
  },
  {
   "cell_type": "code",
   "execution_count": 92,
   "metadata": {},
   "outputs": [
    {
     "name": "stdout",
     "output_type": "stream",
     "text": [
      "\u001b[35mBonjour et bienvenue sur notre moteur de recherche local de Bastia !\n",
      " \n",
      "Entrez des mots-clés pour être mis en relation avec les personnes susceptibles de vous \n",
      "rendre service près de chez vous.\u001b[0m\n",
      "\n",
      "Mot clé : nlp\n"
     ]
    },
    {
     "name": "stderr",
     "output_type": "stream",
     "text": [
      "/Users/louisacamadini/anaconda3/lib/python3.7/site-packages/nltk/translate/bleu_score.py:523: UserWarning: \n",
      "The hypothesis contains 0 counts of 4-gram overlaps.\n",
      "Therefore the BLEU score evaluates to 0, independently of\n",
      "how many N-gram overlaps of lower order it contains.\n",
      "Consider using lower n-gram order or use SmoothingFunction()\n",
      "  warnings.warn(_msg)\n"
     ]
    },
    {
     "name": "stdout",
     "output_type": "stream",
     "text": [
      "\u001b[45m\u001b[37m\n",
      "Résultats de la recherche pour \"nlp\": \u001b[0m\n",
      "\n",
      "| Nom             | Contact    | Service                      |\n",
      "|-----------------+------------+------------------------------|\n",
      "| Pierre Colombo  | 06XXXXXXXX | Professeur de NLP            |\n",
      "| Louisa Camadini | 0646674880 | Effectuer vos projets de NLP |\n",
      "\n",
      "Avez-vous besoin d'autre chose ?\n",
      "Danse\n",
      "\u001b[45m\u001b[37m\n",
      "Résultats de la recherche pour \"Danse\": \u001b[0m\n",
      "\n",
      "| Nom                      |    Contact | Service                                                                       |\n",
      "|--------------------------+------------+-------------------------------------------------------------------------------|\n",
      "| Étienne-Thomas Delorme   | 0649670799 | Danse classique                                                               |\n",
      "| Sébastien De Sousa-Lebon | 0610611931 | Danse jazz                                                                    |\n",
      "| Danielle Fleury          | 0607632945 | Professeur de danse à domicile                                                |\n",
      "| Jules Dufour             | 0690440732 | Danse hip-hop                                                                 |\n",
      "| Eugène Chretien          | 0630956415 | Danse africaine                                                               |\n",
      "| Cécile Le Baron          | 0614905329 | Danse du ventre                                                               |\n",
      "| Roland Leroy             | 0694621520 | Danse folklorique                                                             |\n",
      "| Jules Berthelot          | 0679258757 | Danse contemporaine                                                           |\n",
      "| Léon Faure               | 0604806906 | Danse orientale                                                               |\n",
      "| Alphonse Le Bazin        | 0612858690 | Professeur de danse pour enfants                                              |\n",
      "| Isaac Lemonnier          | 0618138350 | Organisation de cours de danse pour seniors                                   |\n",
      "| Colette Lejeune          | 0656885102 | Concepteur de planchers de danse interactifs                                  |\n",
      "| Laetitia Henry           | 0655481659 | Cours de danse (classique, jazz, hip-hop )                                    |\n",
      "| Augustin Ferreira        | 0624190349 | Danse indienne (bharatanatyam, kathak )                                       |\n",
      "| Olivie Chauveau-Gallet   | 0674873230 | Danse polynésienne (hula, tahitienne )                                        |\n",
      "| Arthur Pruvost           | 0677275895 | Danse irlandaise (jig, reel )                                                 |\n",
      "| Frédéric Grenier         | 0667193594 | Danse écossaise (ceilidh, highland )                                          |\n",
      "| Roland Marie             | 0658274332 | Spectacles de danse et autres : décors, musique                               |\n",
      "| Louis Maillard           | 0642283500 | Danse latine (salsa, bachata, merengue )                                      |\n",
      "| Arthur Roche             | 0646295056 | Danse de salon (tango, valse, cha-cha )                                       |\n",
      "| Xavier Legros            | 0669011748 | coach sportif à domicile, tous types de sport : cross-fit, danse, musculation |\n",
      "\n",
      "Avez-vous besoin d'autre chose ?\n",
      "non\n",
      "\u001b[45m\u001b[37m\n",
      "À bientôt et merci d'avoir utilisé le moteur de recherche local ! \u001b[0m\n"
     ]
    },
    {
     "data": {
      "text/plain": [
       "()"
      ]
     },
     "execution_count": 92,
     "metadata": {},
     "output_type": "execute_result"
    }
   ],
   "source": [
    "search_engine()"
   ]
  },
  {
   "cell_type": "markdown",
   "metadata": {},
   "source": [
    "### 2. Euclidian distance"
   ]
  },
  {
   "cell_type": "code",
   "execution_count": 38,
   "metadata": {},
   "outputs": [],
   "source": [
    "def search_engine_eucl():\n",
    "    print(colored(\"Bonjour et bienvenue sur notre moteur de recherche local de Bastia !\\n \\nEntrez des mots-clés pour être mis en relation avec les personnes susceptibles de vous \\nrendre service près de chez vous.\",\"magenta\"))\n",
    "    query = input(colored('\\nMot clé : ','blue'))\n",
    "    while query.lower() != \"non\" :\n",
    "        query_vector = vectorizer.transform([query]).toarray()\n",
    "        query_vector = np.reshape(query_vector, (query_vector.shape[1],))\n",
    "        results      = np.linalg.norm(X - query_vector, axis=1)\n",
    "        \n",
    "        relevant_candidates = np.where(results < 1)[0] # trouver seuil pertinent\n",
    "        sorted_candidates = np.argsort(results[relevant_candidates])\n",
    "        all_candidates = relevant_candidates[sorted_candidates]\n",
    "        \n",
    "        print('\\033[45m\\033[37m\\nRésultats de la recherche pour \"{}\": \\033[0m\\n'.format(query))\n",
    "        headers = ['Nom', 'Contact', 'Service']#, 'Score BLEU']\n",
    "        rows = []\n",
    "        for i in all_candidates:\n",
    "            name    = df.iloc[i, 0]\n",
    "            number  = df.iloc[i, 1]\n",
    "            service = df.iloc[i, 2]\n",
    "            serv    = df.iloc[i, 3]\n",
    "            \n",
    "            candidate = serv\n",
    "            reference = [query]\n",
    "            score = round(nltk.translate.bleu_score.sentence_bleu(reference, candidate)*100,2) # calculer le score BLEU\n",
    "            rows.append([name, number, service])#, score])\n",
    "\n",
    "        print(tabulate(rows, headers=headers, tablefmt='orgtbl'))\n",
    "\n",
    "        query = input(colored('\\nAvez-vous besoin d\\'autre chose ?\\n','blue'))\n",
    "    print('\\033[45m\\033[37m\\nÀ bientôt et merci d\\'avoir utilisé le moteur de recherche local ! \\033[0m')\n",
    "    return()"
   ]
  },
  {
   "cell_type": "code",
   "execution_count": 39,
   "metadata": {},
   "outputs": [
    {
     "name": "stdout",
     "output_type": "stream",
     "text": [
      "\u001b[35mBonjour et bienvenue sur notre moteur de recherche local de Bastia !\n",
      " \n",
      "Entrez des mots-clés pour être mis en relation avec les personnes susceptibles de vous \n",
      "rendre service près de chez vous.\u001b[0m\n",
      "\n",
      "Mot clé : NLP\n",
      "\u001b[45m\u001b[37m\n",
      "Résultats de la recherche pour \"NLP\": \u001b[0m\n",
      "\n",
      "| Nom             | Contact    | Service                      |\n",
      "|-----------------+------------+------------------------------|\n",
      "| Pierre Colombo  | 06XXXXXXXX | Professeur de NLP            |\n",
      "| Louisa Camadini | 0646674880 | Effectuer vos projets de NLP |\n",
      "\n",
      "Avez-vous besoin d'autre chose ?\n",
      "Danse\n",
      "\u001b[45m\u001b[37m\n",
      "Résultats de la recherche pour \"Danse\": \u001b[0m\n",
      "\n",
      "| Nom                      |    Contact | Service                          |\n",
      "|--------------------------+------------+----------------------------------|\n",
      "| Étienne-Thomas Delorme   | 0649670799 | Danse classique                  |\n",
      "| Sébastien De Sousa-Lebon | 0610611931 | Danse jazz                       |\n",
      "| Danielle Fleury          | 0607632945 | Professeur de danse à domicile   |\n",
      "| Jules Dufour             | 0690440732 | Danse hip-hop                    |\n",
      "| Jules Berthelot          | 0679258757 | Danse contemporaine              |\n",
      "| Eugène Chretien          | 0630956415 | Danse africaine                  |\n",
      "| Léon Faure               | 0604806906 | Danse orientale                  |\n",
      "| Roland Leroy             | 0694621520 | Danse folklorique                |\n",
      "| Cécile Le Baron          | 0614905329 | Danse du ventre                  |\n",
      "| Alphonse Le Bazin        | 0612858690 | Professeur de danse pour enfants |\n",
      "\n",
      "Avez-vous besoin d'autre chose ?\n",
      "Non\n",
      "\u001b[45m\u001b[37m\n",
      "À bientôt et merci d'avoir utilisé le moteur de recherche local ! \u001b[0m\n"
     ]
    },
    {
     "data": {
      "text/plain": [
       "()"
      ]
     },
     "execution_count": 39,
     "metadata": {},
     "output_type": "execute_result"
    }
   ],
   "source": [
    "search_engine_eucl()"
   ]
  },
  {
   "cell_type": "markdown",
   "metadata": {},
   "source": [
    "### 3. Pearson correlation "
   ]
  },
  {
   "cell_type": "code",
   "execution_count": 49,
   "metadata": {},
   "outputs": [],
   "source": [
    "from scipy.spatial.distance import pdist, squareform\n",
    "def search_engine_pearson():\n",
    "    print(colored(\"Bonjour et bienvenue sur notre moteur de recherche local de Bastia !\\n \\nEntrez des mots-clés pour être mis en relation avec les personnes susceptibles de vous \\nrendre service près de chez vous.\",\"magenta\"))\n",
    "    query = input(colored('\\nMot clé : ','blue'))\n",
    "    while query.lower() != \"non\" :\n",
    "        query_vector = vectorizer.transform([query])\n",
    "        pairwise_distances = pdist(X.toarray(), metric='correlation')\n",
    "        pairwise_similarities = 1 - squareform(pairwise_distances)\n",
    "        query_similarities = 1 - pdist(np.vstack((X.toarray(), query_vector.toarray())), metric='correlation')\n",
    "        results = query_similarities.flatten()[:-1]\n",
    "        \n",
    "        relevant_candidates = np.where(results > 0.5)[0] # trouver seuil pertinent\n",
    "        sorted_candidates = np.argsort(results[relevant_candidates])[::-1]\n",
    "        all_candidates = relevant_candidates[sorted_candidates]\n",
    "        \n",
    "        print('\\033[45m\\033[37m\\nRésultats de la recherche pour \"{}\": \\033[0m\\n'.format(query))\n",
    "        headers = ['Nom', 'Contact', 'Service']#, 'Score BLEU']\n",
    "        rows = []\n",
    "        for i in all_candidates:\n",
    "            if i <= len(df) :\n",
    "                name    = df.iloc[i, 0]\n",
    "                number  = df.iloc[i, 1]\n",
    "                service = df.iloc[i, 2]\n",
    "                rows.append([name, number, service])\n",
    "        print(tabulate(rows, headers=headers, tablefmt='orgtbl'))\n",
    "        query = input(colored('\\nAvez-vous besoin d\\'autre chose ?\\n','blue'))\n",
    "    print('\\033[45m\\033[37m\\nÀ bientôt et merci d\\'avoir utilisé le moteur de recherche local ! \\033[0m')\n",
    "    return()"
   ]
  },
  {
   "cell_type": "code",
   "execution_count": 50,
   "metadata": {},
   "outputs": [
    {
     "name": "stdout",
     "output_type": "stream",
     "text": [
      "\u001b[35mBonjour et bienvenue sur notre moteur de recherche local de Bastia !\n",
      " \n",
      "Entrez des mots-clés pour être mis en relation avec les personnes susceptibles de vous \n",
      "rendre service près de chez vous.\u001b[0m\n",
      "\n",
      "Mot clé : NLP\n",
      "\u001b[45m\u001b[37m\n",
      "Résultats de la recherche pour \"NLP\": \u001b[0m\n",
      "\n",
      "| Nom           |    Contact | Service             |\n",
      "|---------------+------------+---------------------|\n",
      "| Adèle du Ruiz | 0663238554 | Cours de leadership |\n",
      "\n",
      "Avez-vous besoin d'autre chose ?\n",
      "non\n",
      "\u001b[45m\u001b[37m\n",
      "À bientôt et merci d'avoir utilisé le moteur de recherche local ! \u001b[0m\n"
     ]
    },
    {
     "data": {
      "text/plain": [
       "()"
      ]
     },
     "execution_count": 50,
     "metadata": {},
     "output_type": "execute_result"
    }
   ],
   "source": [
    "search_engine_pearson()"
   ]
  },
  {
   "cell_type": "markdown",
   "metadata": {},
   "source": [
    "## <span style=\"color:orange\"> BERT Embedding Method </span>"
   ]
  },
  {
   "cell_type": "code",
   "execution_count": 56,
   "metadata": {},
   "outputs": [],
   "source": [
    "import transformers\n",
    "import sentence_transformers"
   ]
  },
  {
   "cell_type": "code",
   "execution_count": 1,
   "metadata": {},
   "outputs": [],
   "source": [
    "from sentence_transformers import SentenceTransformer"
   ]
  },
  {
   "cell_type": "code",
   "execution_count": 89,
   "metadata": {},
   "outputs": [],
   "source": [
    "model = SentenceTransformer('distilbert-base-nli-mean-tokens')\n",
    "X_bert = model.encode(df['lowerplot'])\n",
    "\n",
    "def search_engine_bert():\n",
    "    print(colored(\"Bonjour et bienvenue sur notre moteur de recherche local de Bastia !\\n \\nEntrez des mots-clés pour être mis en relation avec les personnes susceptibles de vous \\nrendre service près de chez vous.\",\"magenta\"))\n",
    "    query = input(colored('\\nMot clé : ','blue'))\n",
    "    while query.lower() != \"non\" :\n",
    "        query_vector = model.encode([query])\n",
    "        results      = cosine_similarity(X_bert, query_vector)\n",
    "\n",
    "        relevant_candidates = np.where(results.flatten() > 0.9)[0] # trouver seuil pertinent\n",
    "        sorted_candidates = np.argsort(results.flatten()[relevant_candidates])[::-1]\n",
    "        all_candidates = relevant_candidates[sorted_candidates]\n",
    "\n",
    "        print('\\033[45m\\033[37m\\nRésultats de la recherche pour \"{}\": \\033[0m\\n'.format(query))\n",
    "        headers = ['Nom', 'Contact', 'Service']#, 'Score BLEU']\n",
    "        rows = []\n",
    "        for i in all_candidates:\n",
    "            print(i)\n",
    "            name    = df.iloc[i, 0]\n",
    "            number  = df.iloc[i, 1]\n",
    "            service = df.iloc[i, 2]\n",
    "            serv    = df.iloc[i, 3]\n",
    "            \n",
    "            candidate = model.encode([serv])\n",
    "            reference = model.encode([query])\n",
    "            score = round(cosine_similarity(reference, candidate)[0][0]*100, 2)\n",
    "            rows.append([name, number, service])\n",
    "\n",
    "        print(tabulate(rows, headers=headers, tablefmt='orgtbl'))\n",
    "\n",
    "        query = input(colored('\\nAvez-vous besoin d\\'autre chose ?\\n','blue'))\n",
    "    print('\\033[45m\\033[37m\\nÀ bientôt et merci d\\'avoir utilisé le moteur de recherche local ! \\033[0m')\n",
    "    return()\n"
   ]
  },
  {
   "cell_type": "code",
   "execution_count": 90,
   "metadata": {},
   "outputs": [
    {
     "name": "stdout",
     "output_type": "stream",
     "text": [
      "\u001b[35mBonjour et bienvenue sur notre moteur de recherche local de Bastia !\n",
      " \n",
      "Entrez des mots-clés pour être mis en relation avec les personnes susceptibles de vous \n",
      "rendre service près de chez vous.\u001b[0m\n",
      "\n",
      "Mot clé : nlp\n",
      "\u001b[45m\u001b[37m\n",
      "Résultats de la recherche pour \"nlp\": \u001b[0m\n",
      "\n",
      "1126\n",
      "| Nom            | Contact    | Service           |\n",
      "|----------------+------------+-------------------|\n",
      "| Pierre Colombo | 06XXXXXXXX | Professeur de NLP |\n",
      "\n",
      "Avez-vous besoin d'autre chose ?\n",
      "danse\n",
      "\u001b[45m\u001b[37m\n",
      "Résultats de la recherche pour \"danse\": \u001b[0m\n",
      "\n",
      "423\n",
      "404\n",
      "406\n",
      "| Nom                    |    Contact | Service             |\n",
      "|------------------------+------------+---------------------|\n",
      "| Cécile Le Baron        | 0614905329 | Danse du ventre     |\n",
      "| Étienne-Thomas Delorme | 0649670799 | Danse classique     |\n",
      "| Jules Berthelot        | 0679258757 | Danse contemporaine |\n",
      "\n",
      "Avez-vous besoin d'autre chose ?\n",
      "non\n",
      "\u001b[45m\u001b[37m\n",
      "À bientôt et merci d'avoir utilisé le moteur de recherche local ! \u001b[0m\n"
     ]
    },
    {
     "data": {
      "text/plain": [
       "()"
      ]
     },
     "execution_count": 90,
     "metadata": {},
     "output_type": "execute_result"
    }
   ],
   "source": [
    "search_engine_bert()"
   ]
  },
  {
   "cell_type": "markdown",
   "metadata": {},
   "source": [
    "## <span style=\"color:orange\"> Word2Vec Embedding Method </span>"
   ]
  },
  {
   "cell_type": "code",
   "execution_count": 69,
   "metadata": {},
   "outputs": [],
   "source": [
    "from gensim.models import Word2Vec\n",
    "\n",
    "# train a Word2Vec model on our text corpus\n",
    "sentences = [nltk.tokenize.word_tokenize(text.lower()) for text in df['lowerplot']]\n",
    "model = Word2Vec(sentences, size=100, window=5, min_count=1, workers=4)\n",
    "\n",
    "def embed_query(query_tokens, model):\n",
    "    # embed the query as the average of its constituent word vectors\n",
    "    query_vector = np.mean([model.wv[token] for token in query_tokens if token in model.wv], axis=0)\n",
    "    return query_vector\n",
    "\n",
    "def search_engine_w2v():\n",
    "    print(colored(\"Bonjour et bienvenue sur notre moteur de recherche local de Bastia !\\n \\nEntrez des mots-clés pour être mis en relation avec les personnes susceptibles de vous \\nrendre service près de chez vous.\",\"magenta\"))\n",
    "    query = input(colored('\\nMot clé : ','blue'))\n",
    "    while query.lower() != \"non\" :\n",
    "        query_tokens = nltk.tokenize.word_tokenize(query.lower())\n",
    "        \n",
    "        query_vector = embed_query(query_tokens, model)\n",
    "        results      = np.dot(model.wv.vectors, query_vector)\n",
    "        \n",
    "        relevant_candidates = np.where(results > 0.1)[0] # trouver seuil pertinent\n",
    "        sorted_candidates = np.argsort(results[relevant_candidates])[::-1]\n",
    "        all_candidates = relevant_candidates[sorted_candidates]\n",
    "\n",
    "        print('\\033[45m\\033[37m\\nRésultats de la recherche pour \"{}\": \\033[0m\\n'.format(query))\n",
    "        headers = ['Nom', 'Contact', 'Service']#, 'Score BLEU']\n",
    "        rows = []\n",
    "        for i in all_candidates:\n",
    "            if i <= len(df) :\n",
    "                name    = df.iloc[i, 0]\n",
    "                number  = df.iloc[i, 1]\n",
    "                service = df.iloc[i, 2]\n",
    "                serv    = df.iloc[i, 3]\n",
    "            \n",
    "                candidate = serv\n",
    "                reference = [query]\n",
    "                score = round(nltk.translate.bleu_score.sentence_bleu(reference, candidate)*100,2) # calculer le score BLEU\n",
    "                rows.append([name, number, service])#, score])\n",
    "\n",
    "        print(tabulate(rows, headers=headers, tablefmt='orgtbl'))\n",
    "\n",
    "        query = input(colored('\\nAvez-vous besoin d\\'autre chose ?\\n','blue'))\n",
    "    print('\\033[45m\\033[37m\\nÀ bientôt et merci d\\'avoir utilisé le moteur de recherche local ! \\033[0m')\n",
    "    return()\n"
   ]
  },
  {
   "cell_type": "code",
   "execution_count": 70,
   "metadata": {},
   "outputs": [
    {
     "name": "stdout",
     "output_type": "stream",
     "text": [
      "\u001b[35mBonjour et bienvenue sur notre moteur de recherche local de Bastia !\n",
      " \n",
      "Entrez des mots-clés pour être mis en relation avec les personnes susceptibles de vous \n",
      "rendre service près de chez vous.\u001b[0m\n",
      "\n",
      "Mot clé : NLP\n",
      "\u001b[45m\u001b[37m\n",
      "Résultats de la recherche pour \"NLP\": \u001b[0m\n",
      "\n",
      "| Nom   | Contact   | Service   |\n",
      "|-------+-----------+-----------|\n",
      "\n",
      "Avez-vous besoin d'autre chose ?\n",
      "danse\n",
      "\u001b[45m\u001b[37m\n",
      "Résultats de la recherche pour \"danse\": \u001b[0m\n",
      "\n",
      "| Nom   | Contact   | Service   |\n",
      "|-------+-----------+-----------|\n",
      "\n",
      "Avez-vous besoin d'autre chose ?\n",
      "non\n",
      "\u001b[45m\u001b[37m\n",
      "À bientôt et merci d'avoir utilisé le moteur de recherche local ! \u001b[0m\n"
     ]
    },
    {
     "data": {
      "text/plain": [
       "()"
      ]
     },
     "execution_count": 70,
     "metadata": {},
     "output_type": "execute_result"
    }
   ],
   "source": [
    "search_engine_w2v()"
   ]
  }
 ],
 "metadata": {
  "kernelspec": {
   "display_name": "Python 3",
   "language": "python",
   "name": "python3"
  },
  "language_info": {
   "codemirror_mode": {
    "name": "ipython",
    "version": 3
   },
   "file_extension": ".py",
   "mimetype": "text/x-python",
   "name": "python",
   "nbconvert_exporter": "python",
   "pygments_lexer": "ipython3",
   "version": "3.7.1"
  }
 },
 "nbformat": 4,
 "nbformat_minor": 2
}
